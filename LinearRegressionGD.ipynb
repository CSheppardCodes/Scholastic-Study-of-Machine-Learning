{
  "nbformat": 4,
  "nbformat_minor": 0,
  "metadata": {
    "colab": {
      "provenance": [],
      "authorship_tag": "ABX9TyOyilfDsENfQXbVyvSRBviG",
      "include_colab_link": true
    },
    "kernelspec": {
      "name": "python3",
      "display_name": "Python 3"
    },
    "language_info": {
      "name": "python"
    }
  },
  "cells": [
    {
      "cell_type": "markdown",
      "metadata": {
        "id": "view-in-github",
        "colab_type": "text"
      },
      "source": [
        "<a href=\"https://colab.research.google.com/github/CSheppardCodes/Scholastic-Study-of-Machine-Learning/blob/main/LinearRegressionGD.ipynb\" target=\"_parent\"><img src=\"https://colab.research.google.com/assets/colab-badge.svg\" alt=\"Open In Colab\"/></a>"
      ]
    },
    {
      "cell_type": "code",
      "execution_count": 2,
      "metadata": {
        "id": "sf9k4NESEVSt"
      },
      "outputs": [],
      "source": [
        "import pandas as pd\n",
        "import matplotlib.pyplot as plt"
      ]
    },
    {
      "cell_type": "code",
      "source": [
        "data = pd.read_csv('yttest.csv')\n",
        "print(data)"
      ],
      "metadata": {
        "id": "6viBXGSZHmu8"
      },
      "execution_count": null,
      "outputs": []
    },
    {
      "cell_type": "code",
      "source": [
        "import numpy as np\n",
        "import pandas as pd\n",
        "import matplotlib.pyplot as plt\n",
        "\n",
        "# Load the dataset\n",
        "data = pd.read_csv('dataset.csv')\n",
        "\n",
        "# Extract the feature variables (X1, X2, ..., X9) and target variable (Y)\n",
        "X = data[['X1', 'X2', 'X3', 'X4', 'X5', 'X6', 'X7', 'X8', 'X9']].values\n",
        "Y = data['Y'].values\n",
        "\n",
        "# Define the linear regression function\n",
        "def linear_regression(X, Y, alpha, num_iterations):\n",
        "    # Initialize the weights (w) and bias (b) to zero\n",
        "    w = np.zeros((X.shape[1], 1))\n",
        "    b = 0\n",
        "    n = len(Y)\n",
        "    # Perform gradient descent\n",
        "    for i in range(num_iterations):\n",
        "        Y_pred = np.dot(X, w) + b\n",
        "        # Calculate the partial derivatives of the cost function\n",
        "        d_w = (-2/n) * np.dot(X.T, (Y - Y_pred))\n",
        "        d_b = (-2/n) * np.sum(Y - Y_pred)\n",
        "        # Update the weights and bias\n",
        "        w = w - alpha * d_w\n",
        "        b = b - alpha * d_b\n",
        "    return w, b\n",
        "\n",
        "# Define the learning rate and number of iterations\n",
        "alpha = 0.01\n",
        "num_iterations = 1000\n",
        "\n",
        "# Call the linear regression function to get the optimal values of w and b\n",
        "w, b = linear_regression(X, Y, alpha, num_iterations)\n",
        "\n",
        "# Print the optimal values of w and b\n",
        "print(\"Optimal weights:\")\n",
        "print(w)\n",
        "print(\"Optimal bias:\")\n",
        "print(b)\n",
        "\n",
        "# Plot the data points and the line of best fit\n",
        "Y_pred = np.dot(X, w) + b\n",
        "plt.scatter(Y, Y_pred)\n",
        "plt.xlabel('True values')\n",
        "plt.ylabel('Predicted values')\n",
        "plt.show()"
      ],
      "metadata": {
        "id": "cYE8-qdNGZqn"
      },
      "execution_count": null,
      "outputs": []
    },
    {
      "cell_type": "code",
      "source": [
        "import numpy as np\n",
        "import matplotlib.pyplot as plt\n",
        "\n",
        "# Generate some sample data\n",
        "X = np.array([1, 2, 3, 4, 5])\n",
        "Y = np.array([3, 5, 7, 9, 11])\n",
        "\n",
        "# Define the linear regression function\n",
        "def linear_regression(X, Y, alpha, num_iterations):\n",
        "    # Initialize the slope (m) and intercept (b) to zero\n",
        "    m = 0\n",
        "    b = 0\n",
        "    n = len(X)\n",
        "    # Perform gradient descent\n",
        "    for i in range(num_iterations):\n",
        "        Y_pred = m * X + b\n",
        "        # Calculate the partial derivatives of the cost function\n",
        "        d_m = (-2/n) * np.sum(X * (Y - Y_pred))\n",
        "        d_b = (-2/n) * np.sum(Y - Y_pred)\n",
        "        # Update the slope and intercept\n",
        "        m = m - alpha * d_m\n",
        "        b = b - alpha * d_b\n",
        "    return m, b\n",
        "\n",
        "# Define the learning rate and number of iterations\n",
        "alpha = 0.01\n",
        "num_iterations = 1000\n",
        "\n",
        "# Call the linear regression function to get the optimal values of m and b\n",
        "m, b = linear_regression(data.x, data.y, alpha, num_iterations)\n",
        "\n",
        "# Plot the data points and the line of best fit\n",
        "plt.scatter(data.x, data.y)\n",
        "plt.plot(data.x, m * data.x + b, color='red')\n",
        "plt.show()"
      ],
      "metadata": {
        "id": "m0mA0rHrQvmT"
      },
      "execution_count": null,
      "outputs": []
    },
    {
      "cell_type": "code",
      "source": [],
      "metadata": {
        "id": "iiU6QxlurtX_"
      },
      "execution_count": null,
      "outputs": []
    }
  ]
}